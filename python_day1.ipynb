{
 "cells": [
  {
   "cell_type": "markdown",
   "id": "08c8d38f",
   "metadata": {},
   "source": [
    "##### print hello world"
   ]
  },
  {
   "cell_type": "markdown",
   "id": "7cc87966",
   "metadata": {},
   "source": [
    "#### printing hello world"
   ]
  },
  {
   "cell_type": "markdown",
   "id": "1f4ffb32",
   "metadata": {},
   "source": [
    "###### PRINT HELLO"
   ]
  },
  {
   "cell_type": "markdown",
   "id": "8b43d342",
   "metadata": {},
   "source": [
    "# printing hello world"
   ]
  },
  {
   "cell_type": "code",
   "execution_count": 1,
   "id": "e13f2c55",
   "metadata": {},
   "outputs": [
    {
     "name": "stdout",
     "output_type": "stream",
     "text": [
      "Hello world\n"
     ]
    }
   ],
   "source": [
    "print('Hello world')"
   ]
  },
  {
   "cell_type": "code",
   "execution_count": 2,
   "id": "32023a03",
   "metadata": {},
   "outputs": [
    {
     "name": "stdout",
     "output_type": "stream",
     "text": [
      "vaishnavi\n"
     ]
    }
   ],
   "source": [
    "print('vaishnavi')"
   ]
  },
  {
   "cell_type": "code",
   "execution_count": null,
   "id": "8e2bef88",
   "metadata": {},
   "outputs": [],
   "source": []
  },
  {
   "cell_type": "code",
   "execution_count": null,
   "id": "5d0c2edb",
   "metadata": {},
   "outputs": [],
   "source": []
  },
  {
   "cell_type": "code",
   "execution_count": 3,
   "id": "8c0ca274",
   "metadata": {},
   "outputs": [
    {
     "name": "stdout",
     "output_type": "stream",
     "text": [
      "9\n"
     ]
    }
   ],
   "source": [
    "print(9)"
   ]
  },
  {
   "cell_type": "code",
   "execution_count": null,
   "id": "f9f4b4d7",
   "metadata": {},
   "outputs": [],
   "source": []
  },
  {
   "cell_type": "markdown",
   "id": "36bc32c3",
   "metadata": {},
   "source": [
    "### datatypes"
   ]
  },
  {
   "cell_type": "code",
   "execution_count": null,
   "id": "2b520ca9",
   "metadata": {},
   "outputs": [],
   "source": []
  },
  {
   "cell_type": "code",
   "execution_count": 4,
   "id": "2d8ff1b7",
   "metadata": {},
   "outputs": [
    {
     "data": {
      "text/plain": [
       "float"
      ]
     },
     "execution_count": 4,
     "metadata": {},
     "output_type": "execute_result"
    }
   ],
   "source": [
    "x= 6.87\n",
    "type(x)"
   ]
  },
  {
   "cell_type": "code",
   "execution_count": 6,
   "id": "bb2b8f13",
   "metadata": {},
   "outputs": [
    {
     "data": {
      "text/plain": [
       "str"
      ]
     },
     "execution_count": 6,
     "metadata": {},
     "output_type": "execute_result"
    }
   ],
   "source": [
    "y = \"name\" \n",
    "type(y)"
   ]
  },
  {
   "cell_type": "code",
   "execution_count": 7,
   "id": "6c22607e",
   "metadata": {},
   "outputs": [
    {
     "data": {
      "text/plain": [
       "bool"
      ]
     },
     "execution_count": 7,
     "metadata": {},
     "output_type": "execute_result"
    }
   ],
   "source": [
    "z = True \n",
    "type(z)"
   ]
  },
  {
   "cell_type": "code",
   "execution_count": 11,
   "id": "1e6900b9",
   "metadata": {},
   "outputs": [
    {
     "data": {
      "text/plain": [
       "str"
      ]
     },
     "execution_count": 11,
     "metadata": {},
     "output_type": "execute_result"
    }
   ],
   "source": [
    "course =\"ai\" \n",
    "type(\"course\")"
   ]
  },
  {
   "cell_type": "raw",
   "id": "27a117f1",
   "metadata": {},
   "source": [
    "cousre = \"zi\"\n",
    "type(course)"
   ]
  },
  {
   "cell_type": "code",
   "execution_count": 12,
   "id": "1c0801d4",
   "metadata": {},
   "outputs": [
    {
     "data": {
      "text/plain": [
       "(str, 'Ar')"
      ]
     },
     "execution_count": 12,
     "metadata": {},
     "output_type": "execute_result"
    }
   ],
   "source": [
    "course = \"Ar\"\n",
    "type(course), course"
   ]
  },
  {
   "cell_type": "code",
   "execution_count": 13,
   "id": "84867a32",
   "metadata": {},
   "outputs": [
    {
     "name": "stdout",
     "output_type": "stream",
     "text": [
      "<class 'str'> ai\n"
     ]
    }
   ],
   "source": [
    "course = 'ai'\n",
    "print(type(course), course)\n"
   ]
  },
  {
   "cell_type": "code",
   "execution_count": 14,
   "id": "ebcd9161",
   "metadata": {},
   "outputs": [
    {
     "data": {
      "text/plain": [
       "['mi', 'ki', 'jh']"
      ]
     },
     "execution_count": 14,
     "metadata": {},
     "output_type": "execute_result"
    }
   ],
   "source": [
    "book_name = ['mi','ki','jh']\n",
    "book_name\n"
   ]
  },
  {
   "cell_type": "code",
   "execution_count": 17,
   "id": "2b8db25f",
   "metadata": {},
   "outputs": [
    {
     "data": {
      "text/plain": [
       "('no', 'u', 'khoi')"
      ]
     },
     "execution_count": 17,
     "metadata": {},
     "output_type": "execute_result"
    }
   ],
   "source": [
    "book_name = ('no','u','khoi')\n",
    "book_name\n"
   ]
  },
  {
   "cell_type": "markdown",
   "id": "e762ac27",
   "metadata": {},
   "source": [
    "### space is not allowed\n",
    "### no number at the begining\n",
    "### only underscore is allowed\n",
    "### no special charcteristics \n",
    "### variable name should start with A-z or a-z or underscore"
   ]
  },
  {
   "cell_type": "markdown",
   "id": "fdc0ae00",
   "metadata": {},
   "source": [
    "## Data structures"
   ]
  },
  {
   "cell_type": "markdown",
   "id": "4844408b",
   "metadata": {},
   "source": [
    "## LIST "
   ]
  },
  {
   "cell_type": "markdown",
   "id": "c8d68cd7",
   "metadata": {},
   "source": [
    "##### square brackets\n",
    "##### we can retrieve elements using index and index starts from 0\n",
    "##### mutable -> we can make the changes "
   ]
  },
  {
   "cell_type": "code",
   "execution_count": 25,
   "id": "250f1503",
   "metadata": {},
   "outputs": [
    {
     "data": {
      "text/plain": [
       "([20, 0, 68, 89, 90, 'hello', 'bye'], list, 'bye')"
      ]
     },
     "execution_count": 25,
     "metadata": {},
     "output_type": "execute_result"
    }
   ],
   "source": [
    "sample_list=[20,0,68,89,90,'hello','bye']\n",
    "sample_list, type(sample_list), sample_list[6]"
   ]
  },
  {
   "cell_type": "code",
   "execution_count": 26,
   "id": "2d9004db",
   "metadata": {},
   "outputs": [
    {
     "data": {
      "text/plain": [
       "[100, 0, 68, 89, 90, 'hello', 'bye']"
      ]
     },
     "execution_count": 26,
     "metadata": {},
     "output_type": "execute_result"
    }
   ],
   "source": [
    "sample_list[0]=100\n",
    "sample_list\n"
   ]
  },
  {
   "cell_type": "markdown",
   "id": "f71a0fda",
   "metadata": {},
   "source": [
    "## TUPLE"
   ]
  },
  {
   "cell_type": "markdown",
   "id": "5464b61a",
   "metadata": {},
   "source": [
    "#### curly brackets \n",
    "#### we can retrieve elements using index and index starts from 0 \n",
    "#### immutable-> we cannot make changes"
   ]
  },
  {
   "cell_type": "code",
   "execution_count": 28,
   "id": "153d4c25",
   "metadata": {},
   "outputs": [
    {
     "data": {
      "text/plain": [
       "((23, 98, 90, 'hi', 'bye', 'hello'), tuple)"
      ]
     },
     "execution_count": 28,
     "metadata": {},
     "output_type": "execute_result"
    }
   ],
   "source": [
    "sample_tuple = (23,98,90,'hi','bye','hello')\n",
    "sample_tuple, type(sample_tuple)"
   ]
  },
  {
   "cell_type": "code",
   "execution_count": 29,
   "id": "9d409e8f",
   "metadata": {},
   "outputs": [
    {
     "ename": "TypeError",
     "evalue": "'tuple' object is not callable",
     "output_type": "error",
     "traceback": [
      "\u001b[1;31m---------------------------------------------------------------------------\u001b[0m",
      "\u001b[1;31mTypeError\u001b[0m                                 Traceback (most recent call last)",
      "Cell \u001b[1;32mIn[29], line 2\u001b[0m\n\u001b[0;32m      1\u001b[0m sample_tuple \u001b[38;5;241m=\u001b[39m (\u001b[38;5;241m23\u001b[39m,\u001b[38;5;241m98\u001b[39m,\u001b[38;5;241m90\u001b[39m,\u001b[38;5;124m'\u001b[39m\u001b[38;5;124mhi\u001b[39m\u001b[38;5;124m'\u001b[39m,\u001b[38;5;124m'\u001b[39m\u001b[38;5;124mbye\u001b[39m\u001b[38;5;124m'\u001b[39m,\u001b[38;5;124m'\u001b[39m\u001b[38;5;124mhello\u001b[39m\u001b[38;5;124m'\u001b[39m)\n\u001b[1;32m----> 2\u001b[0m sample_tuple, \u001b[38;5;28mtype\u001b[39m(sample_tuple), \u001b[43msample_tuple\u001b[49m\u001b[43m(\u001b[49m\u001b[38;5;241;43m2\u001b[39;49m\u001b[43m)\u001b[49m\n",
      "\u001b[1;31mTypeError\u001b[0m: 'tuple' object is not callable"
     ]
    }
   ],
   "source": [
    "sample_tuple = (23,98,90,'hi','bye','hello')\n",
    "sample_tuple, type(sample_tuple), sample_tuple(2)"
   ]
  },
  {
   "cell_type": "markdown",
   "id": "aa6d0783",
   "metadata": {},
   "source": [
    "## SET"
   ]
  },
  {
   "cell_type": "markdown",
   "id": "f243e3ba",
   "metadata": {},
   "source": [
    "#### {}\n",
    "#### duplicates are not allowed \n",
    "#### arranged according to first place \n",
    "#### cannot access using index \n",
    "#### set is mutable"
   ]
  },
  {
   "cell_type": "code",
   "execution_count": 30,
   "id": "0d314f43",
   "metadata": {},
   "outputs": [
    {
     "data": {
      "text/plain": [
       "({2, 3, 4, 5, 6, 7, 'frem', 'howle', 'srey', 'vaish'}, set)"
      ]
     },
     "execution_count": 30,
     "metadata": {},
     "output_type": "execute_result"
    }
   ],
   "source": [
    "sample_set={2,3,4,4,5,6,7,2,'vaish','frem','srey','howle'}\n",
    "sample_set, type(sample_set)"
   ]
  },
  {
   "cell_type": "code",
   "execution_count": 35,
   "id": "755ddad6",
   "metadata": {},
   "outputs": [
    {
     "ename": "TypeError",
     "evalue": "'set' object is not callable",
     "output_type": "error",
     "traceback": [
      "\u001b[1;31m---------------------------------------------------------------------------\u001b[0m",
      "\u001b[1;31mTypeError\u001b[0m                                 Traceback (most recent call last)",
      "Cell \u001b[1;32mIn[35], line 2\u001b[0m\n\u001b[0;32m      1\u001b[0m sample_set\u001b[38;5;241m=\u001b[39m{\u001b[38;5;241m2\u001b[39m,\u001b[38;5;241m3\u001b[39m,\u001b[38;5;241m4\u001b[39m,\u001b[38;5;241m4\u001b[39m,\u001b[38;5;241m5\u001b[39m,\u001b[38;5;241m6\u001b[39m,\u001b[38;5;241m7\u001b[39m,\u001b[38;5;241m2\u001b[39m,\u001b[38;5;124m'\u001b[39m\u001b[38;5;124mvaish\u001b[39m\u001b[38;5;124m'\u001b[39m,\u001b[38;5;124m'\u001b[39m\u001b[38;5;124mfrem\u001b[39m\u001b[38;5;124m'\u001b[39m,\u001b[38;5;124m'\u001b[39m\u001b[38;5;124msrey\u001b[39m\u001b[38;5;124m'\u001b[39m,\u001b[38;5;124m'\u001b[39m\u001b[38;5;124mhowle\u001b[39m\u001b[38;5;124m'\u001b[39m}\n\u001b[1;32m----> 2\u001b[0m \u001b[43msample_set\u001b[49m\u001b[43m(\u001b[49m\u001b[38;5;241;43m0\u001b[39;49m\u001b[43m)\u001b[49m\n",
      "\u001b[1;31mTypeError\u001b[0m: 'set' object is not callable"
     ]
    }
   ],
   "source": [
    "sample_set={2,3,4,4,5,6,7,2,'vaish','frem','srey','howle'}\n",
    "sample_set(0)"
   ]
  },
  {
   "cell_type": "code",
   "execution_count": 36,
   "id": "c26288a0",
   "metadata": {},
   "outputs": [
    {
     "ename": "TypeError",
     "evalue": "'set' object does not support item assignment",
     "output_type": "error",
     "traceback": [
      "\u001b[1;31m---------------------------------------------------------------------------\u001b[0m",
      "\u001b[1;31mTypeError\u001b[0m                                 Traceback (most recent call last)",
      "Cell \u001b[1;32mIn[36], line 1\u001b[0m\n\u001b[1;32m----> 1\u001b[0m sample_set[\u001b[38;5;241m0\u001b[39m] \u001b[38;5;241m=\u001b[39m \u001b[38;5;241m90\u001b[39m\n",
      "\u001b[1;31mTypeError\u001b[0m: 'set' object does not support item assignment"
     ]
    }
   ],
   "source": [
    "sample_set[0] = 90\n"
   ]
  },
  {
   "cell_type": "code",
   "execution_count": 39,
   "id": "004a90c1",
   "metadata": {},
   "outputs": [
    {
     "data": {
      "text/plain": [
       "{2, 3, 4, 5, 6, 7, 90, 'frem', 'howle', 'srey', 'vaish'}"
      ]
     },
     "execution_count": 39,
     "metadata": {},
     "output_type": "execute_result"
    }
   ],
   "source": [
    "sample_set.add(90)\n",
    "sample_set"
   ]
  },
  {
   "cell_type": "markdown",
   "id": "9d82cda4",
   "metadata": {},
   "source": [
    "## DICTIONARY"
   ]
  },
  {
   "cell_type": "markdown",
   "id": "11ef0456",
   "metadata": {},
   "source": [
    "#### key is always unique (if you give same key it will take the last key)\n",
    "#### values can be duplicated\n",
    "#### dictionary has key-value pair data structure \n",
    "#### we can retrive value using key\n",
    "#### key cannot be retrieved using value "
   ]
  },
  {
   "cell_type": "code",
   "execution_count": 1,
   "id": "c0921e7d",
   "metadata": {},
   "outputs": [
    {
     "data": {
      "text/plain": [
       "{1: 'apple', 2: 'hi', 3: 'data', 6: 35, 7: 35}"
      ]
     },
     "execution_count": 1,
     "metadata": {},
     "output_type": "execute_result"
    }
   ],
   "source": [
    "sample_dict = {1:\"apple\",2:35,3:\"data\",2:\"every\",6:35,7:35,2:\"hi\"}\n",
    "sample_dict\n"
   ]
  },
  {
   "cell_type": "code",
   "execution_count": 2,
   "id": "dca3749e",
   "metadata": {},
   "outputs": [
    {
     "data": {
      "text/plain": [
       "35"
      ]
     },
     "execution_count": 2,
     "metadata": {},
     "output_type": "execute_result"
    }
   ],
   "source": [
    "sample_dict[6]"
   ]
  },
  {
   "cell_type": "code",
   "execution_count": 3,
   "id": "04525194",
   "metadata": {},
   "outputs": [
    {
     "ename": "KeyError",
     "evalue": "'apple'",
     "output_type": "error",
     "traceback": [
      "\u001b[1;31m---------------------------------------------------------------------------\u001b[0m",
      "\u001b[1;31mKeyError\u001b[0m                                  Traceback (most recent call last)",
      "Cell \u001b[1;32mIn[3], line 1\u001b[0m\n\u001b[1;32m----> 1\u001b[0m \u001b[43msample_dict\u001b[49m\u001b[43m[\u001b[49m\u001b[38;5;124;43m\"\u001b[39;49m\u001b[38;5;124;43mapple\u001b[39;49m\u001b[38;5;124;43m\"\u001b[39;49m\u001b[43m]\u001b[49m\n",
      "\u001b[1;31mKeyError\u001b[0m: 'apple'"
     ]
    }
   ],
   "source": [
    "sample_dict[\"apple\"]"
   ]
  },
  {
   "cell_type": "code",
   "execution_count": 9,
   "id": "a412048f",
   "metadata": {},
   "outputs": [
    {
     "data": {
      "text/plain": [
       "{1: 'apple', 2: 'hi', 3: 40, 6: 35, 7: 35}"
      ]
     },
     "execution_count": 9,
     "metadata": {},
     "output_type": "execute_result"
    }
   ],
   "source": [
    "sample_dict[3]= 40\n",
    "sample_dict"
   ]
  },
  {
   "cell_type": "code",
   "execution_count": 10,
   "id": "a3b2364c",
   "metadata": {},
   "outputs": [
    {
     "data": {
      "text/plain": [
       "{1: 'apple', 2: 'hi', 3: 40, 6: 35, 7: 35, 8: 'vaish'}"
      ]
     },
     "execution_count": 10,
     "metadata": {},
     "output_type": "execute_result"
    }
   ],
   "source": [
    "sample_dict[8] = \"vaish\"\n",
    "sample_dict"
   ]
  },
  {
   "cell_type": "code",
   "execution_count": null,
   "id": "7d54bf8c",
   "metadata": {},
   "outputs": [],
   "source": []
  }
 ],
 "metadata": {
  "kernelspec": {
   "display_name": "Python 3 (ipykernel)",
   "language": "python",
   "name": "python3"
  },
  "language_info": {
   "codemirror_mode": {
    "name": "ipython",
    "version": 3
   },
   "file_extension": ".py",
   "mimetype": "text/x-python",
   "name": "python",
   "nbconvert_exporter": "python",
   "pygments_lexer": "ipython3",
   "version": "3.10.9"
  }
 },
 "nbformat": 4,
 "nbformat_minor": 5
}
